{
 "cells": [
  {
   "cell_type": "code",
   "execution_count": 14,
   "metadata": {},
   "outputs": [
    {
     "name": "stdout",
     "output_type": "stream",
     "text": [
      "Image /Users/dk/Desktop/dk_unet-270524/split_images/original_images/Ctr._2h_DFO-Zeitkinetik_4.tif split into 6 parts and saved to /Users/dk/Desktop/dk_unet-270524/split_images/splited_images\n",
      "All images in /Users/dk/Desktop/dk_unet-270524/split_images/original_images split and saved to /Users/dk/Desktop/dk_unet-270524/split_images/splited_images\n"
     ]
    }
   ],
   "source": [
    "import os\n",
    "from PIL import Image\n",
    "\n",
    "\n",
    "# create three folders original_images, splited_images, and stiched images.\n",
    "# the first code will split all images in the original folder and new splited images will be saved to splited images fodler.\n",
    "# the second code will stich all images in the splited images folder and new stiched images will be saved to stiched images folder\n",
    "\n",
    "def split_all_images_in_folder(input_directory, num_rows, num_cols, output_directory):\n",
    "    # Create the output directory if it doesn't exist\n",
    "    if not os.path.exists(output_directory):\n",
    "        os.makedirs(output_directory)\n",
    "    \n",
    "    # Iterate through all files in the input directory\n",
    "    for filename in os.listdir(input_directory):\n",
    "        image_path = os.path.join(input_directory, filename)\n",
    "        if os.path.isfile(image_path) and filename.lower().endswith(('.png', '.jpg', '.jpeg', '.tif')):\n",
    "            split_image_custom(image_path, num_rows, num_cols, output_directory)\n",
    "    \n",
    "    print(f\"All images in {input_directory} split and saved to {output_directory}\")\n",
    "\n",
    "def split_image_custom(image_path, num_rows, num_cols, output_directory):\n",
    "    # Open the image\n",
    "    image = Image.open(image_path)\n",
    "    image_width, image_height = image.size\n",
    "    \n",
    "    # Calculate the dimensions of each part\n",
    "    part_width = image_width // num_cols\n",
    "    part_height = image_height // num_rows\n",
    "    \n",
    "    # Split the image\n",
    "    part_number = 1\n",
    "    for row in range(num_rows):\n",
    "        for col in range(num_cols):\n",
    "            left = col * part_width\n",
    "            upper = row * part_height\n",
    "            right = (col + 1) * part_width\n",
    "            lower = (row + 1) * part_height\n",
    "            part = image.crop((left, upper, right, lower))\n",
    "            part_filename = f\"{os.path.splitext(os.path.basename(image_path))[0]}_part_{part_number}.png\"\n",
    "            part.save(os.path.join(output_directory, part_filename))\n",
    "            part_number += 1\n",
    "\n",
    "    print(f\"Image {image_path} split into {num_rows * num_cols} parts and saved to {output_directory}\")\n",
    "\n",
    "# Parameters\n",
    "input_directory = \"/Users/dk/Desktop/dk_unet-270524/split_images/original_images\"\n",
    "output_directory = \"/Users/dk/Desktop/dk_unet-270524/split_images/splited_images\"\n",
    "num_rows = 3\n",
    "num_cols = 2\n",
    "\n",
    "# Split all images in the folder\n",
    "split_all_images_in_folder(input_directory, num_rows, num_cols, output_directory)\n",
    "\n"
   ]
  },
  {
   "cell_type": "code",
   "execution_count": 15,
   "metadata": {},
   "outputs": [
    {
     "name": "stdout",
     "output_type": "stream",
     "text": [
      "Stitched image Ctr._2h_DFO-Zeitkinetik_4 saved to /Users/dk/Desktop/dk_unet-270524/split_images/stiched_images/Ctr._2h_DFO-Zeitkinetik_4_stitched.png\n"
     ]
    }
   ],
   "source": [
    "import os\n",
    "from PIL import Image\n",
    "\n",
    "def stitch_all_images_in_folder(input_directory, num_rows, num_cols, output_directory):\n",
    "    # Create the output directory if it doesn't exist\n",
    "    if not os.path.exists(output_directory):\n",
    "        os.makedirs(output_directory)\n",
    "    \n",
    "    # Collect all parts and group them by the base image name\n",
    "    images_dict = {}\n",
    "    for filename in os.listdir(input_directory):\n",
    "        if filename.lower().endswith(('.png', '.jpg', '.jpeg', '.tif')):\n",
    "            base_name = \"_\".join(filename.split('_')[:-2])\n",
    "            if base_name not in images_dict:\n",
    "                images_dict[base_name] = []\n",
    "            images_dict[base_name].append(filename)\n",
    "    \n",
    "    # Stitch each set of parts back together\n",
    "    for base_name, parts in images_dict.items():\n",
    "        parts.sort(key=lambda x: int(x.split('_')[-1].split('.')[0]))  # Sort parts by their number\n",
    "        stitch_image_custom(base_name, parts, num_rows, num_cols, input_directory, output_directory)\n",
    "\n",
    "def stitch_image_custom(base_name, parts, num_rows, num_cols, input_directory, output_directory):\n",
    "    # Read the first part to get the dimensions\n",
    "    first_part_path = os.path.join(input_directory, parts[0])\n",
    "    part = Image.open(first_part_path)\n",
    "    part_width, part_height = part.size\n",
    "    \n",
    "    # Create an empty image to hold the stitched result\n",
    "    stitched_image = Image.new('RGB', (part_width * num_cols, part_height * num_rows))\n",
    "    \n",
    "    # Stitch the parts back together\n",
    "    for index, part_filename in enumerate(parts):\n",
    "        part_path = os.path.join(input_directory, part_filename)\n",
    "        part = Image.open(part_path)\n",
    "        row = index // num_cols\n",
    "        col = index % num_cols\n",
    "        stitched_image.paste(part, (col * part_width, row * part_height))\n",
    "    \n",
    "    # Save the stitched image\n",
    "    stitched_image.save(os.path.join(output_directory, f\"{base_name}_stitched.png\"))\n",
    "    print(f\"Stitched image {base_name} saved to {os.path.join(output_directory, f'{base_name}_stitched.png')}\")\n",
    "\n",
    "# Parameters\n",
    "input_directory = \"/Users/dk/Desktop/dk_unet-270524/split_images/splited_images\"\n",
    "output_directory = \"/Users/dk/Desktop/dk_unet-270524/split_images/stiched_images\"\n",
    "num_rows = 3\n",
    "num_cols = 2\n",
    "\n",
    "# Stitch all images in the folder\n",
    "stitch_all_images_in_folder(input_directory, num_rows, num_cols, output_directory)\n",
    "\n",
    "\n"
   ]
  }
 ],
 "metadata": {
  "kernelspec": {
   "display_name": ".detectron2-env",
   "language": "python",
   "name": "python3"
  },
  "language_info": {
   "codemirror_mode": {
    "name": "ipython",
    "version": 3
   },
   "file_extension": ".py",
   "mimetype": "text/x-python",
   "name": "python",
   "nbconvert_exporter": "python",
   "pygments_lexer": "ipython3",
   "version": "3.11.3"
  }
 },
 "nbformat": 4,
 "nbformat_minor": 2
}
