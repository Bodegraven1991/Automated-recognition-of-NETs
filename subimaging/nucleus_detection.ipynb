{
 "cells": [
  {
   "cell_type": "code",
   "execution_count": 1,
   "metadata": {},
   "outputs": [],
   "source": [
    "# import packages\n",
    "import cv2\n",
    "import numpy as np\n",
    "import os\n",
    "from datetime import datetime\n",
    "\n"
   ]
  },
  {
   "cell_type": "code",
   "execution_count": 2,
   "metadata": {},
   "outputs": [],
   "source": [
    "# define the paths for the folders\n",
    "\n",
    "nuclei_path = \"../data/withoutmarker_newdata_split/blue/blue-green\"\n",
    "merged_images_folder = \"../data/unlabeled images\"\n",
    "subimages_output_folder = \"../data/subimages\"\n",
    "\n",
    "# if this boolean is set to True, you will follow the nuclei detection for each image one by one and have to push any button to continue\n",
    "follow_nuclei_detection = False\n",
    "\n",
    "# changeable variables that can be tweaked for the nuclei detection\n",
    "\n",
    "# size of the kernel that is used to close holes in objects (if smaller the objects are more separated). inputing 5 will generate a 5x5 kernel\n",
    "kernelsize = 5\n",
    "\n",
    "# aspect ratio treshold, how much is the shape allowed from the ratio of 1, which would indicate that hight and width are identical (0.4 was good)\n",
    "aspect = 1\n",
    "\n",
    "# circularity treshold, it is 1 for a perfect circle. How much is the object allowed to diverge from that? (0.7 was good)\n",
    "circ = 1\n",
    "\n",
    "# decide for min and max area of the detected object\n",
    "min_size = 300\n",
    "max_size = 10000"
   ]
  },
  {
   "cell_type": "code",
   "execution_count": 3,
   "metadata": {},
   "outputs": [],
   "source": [
    "# function to detect the nuclei\n",
    "def detect_objects2(image_path, output_dir, kernelsize=kernelsize, aspect=aspect, circ=circ, min_size=min_size, max_size=max_size):\n",
    "    # Load the image\n",
    "    image = cv2.imread(image_path, cv2.IMREAD_GRAYSCALE)\n",
    "    if image is None:\n",
    "        raise FileNotFoundError(f\"Image file not found at the path: {image_path}\")\n",
    "\n",
    "    # Apply a Gaussian blur to the image\n",
    "    blurred = cv2.GaussianBlur(image, (11, 11), 0)\n",
    "\n",
    "    # Apply thresholding to create a binary image\n",
    "    _, thresh = cv2.threshold(blurred, 50, 255, cv2.THRESH_BINARY)\n",
    "\n",
    "    # Apply morphological closing to fill small holes\n",
    "    kernel = np.ones((kernelsize, kernelsize), np.uint8)\n",
    "    closing = cv2.morphologyEx(thresh, cv2.MORPH_CLOSE, kernel)\n",
    "\n",
    "    # Dilate the image to merge close contours\n",
    "    dilated = cv2.dilate(closing, kernel, iterations=2)\n",
    "\n",
    "    # Find contours\n",
    "    contours, _ = cv2.findContours(dilated, cv2.RETR_EXTERNAL, cv2.CHAIN_APPROX_SIMPLE)\n",
    "\n",
    "    # Draw detected contours as red circles\n",
    "    color_image = cv2.cvtColor(image, cv2.COLOR_GRAY2BGR)\n",
    "    coordinates = []\n",
    "\n",
    "    for contour in contours:\n",
    "        # Get the moments to calculate the center of the contour\n",
    "        M = cv2.moments(contour)\n",
    "        if M[\"m00\"] != 0:\n",
    "            cX = int(M[\"m10\"] / M[\"m00\"])\n",
    "            cY = int(M[\"m01\"] / M[\"m00\"])\n",
    "            \n",
    "            # Calculate aspect ratio and circularity\n",
    "            x, y, w, h = cv2.boundingRect(contour)\n",
    "            aspect_ratio = float(w) / h\n",
    "            area = cv2.contourArea(contour)\n",
    "            perimeter = cv2.arcLength(contour, True)\n",
    "            if perimeter == 0:\n",
    "                continue\n",
    "            circularity = 4 * np.pi * (area / (perimeter * perimeter))\n",
    "\n",
    "            # Filter based on aspect ratio and circularity, the aspect ratio should be close to 1 for round objects and the circularity of a perfect circle is 1\n",
    "            if 1 - aspect <= aspect_ratio <= 1 + aspect and circularity > 1 - circ and min_size <= area <= max_size:\n",
    "                coordinates.append((cX, cY))\n",
    "                # Draw the center of the contour\n",
    "                cv2.circle(color_image, (cX, cY), 5, (0, 0, 255), -1)\n",
    "\n",
    "   # Save the image with detected centers\n",
    "    output_image_path = os.path.join(output_dir, f\"{os.path.basename(image_path)}_detected.png\")\n",
    "    cv2.imwrite(output_image_path, color_image)\n",
    "\n",
    "    # Display the image with detected centers, active by setting follow_nuclei_detection as True above\n",
    "    if follow_nuclei_detection:\n",
    "        cv2.imshow(\"Detected Centers\", color_image)\n",
    "        cv2.waitKey(0)\n",
    "        cv2.destroyAllWindows()\n",
    "\n",
    "    return coordinates"
   ]
  },
  {
   "cell_type": "code",
   "execution_count": 4,
   "metadata": {},
   "outputs": [],
   "source": [
    "# image_path= '../data/withoutmarker_newdata_split/blue/20211111.lif_ctr 3.11.21NET488_MPO633_1.tif (blue).jpg'\n",
    "# coordinates = detect_objects2(image_path)\n",
    "# nuclei_number = len(coordinates)\n",
    "# print(f'{nuclei_number} nuclei were detected.')"
   ]
  },
  {
   "cell_type": "code",
   "execution_count": 5,
   "metadata": {},
   "outputs": [],
   "source": [
    "# coordinates"
   ]
  },
  {
   "cell_type": "code",
   "execution_count": 6,
   "metadata": {},
   "outputs": [],
   "source": [
    "# now we use these coordinates to do the subimaging on the merge-channel images\n",
    "\n",
    "def extract_sub_images(image_path, coordinates, output_dir):\n",
    "    # Load the second image\n",
    "    image = cv2.imread(image_path)\n",
    "    if image is None:\n",
    "        raise FileNotFoundError(f\"Image file not found at the path: {image_path}\")\n",
    "\n",
    "    if not os.path.exists(output_dir):\n",
    "        os.makedirs(output_dir)\n",
    "\n",
    "    sub_images = []\n",
    "    for i, (cX, cY) in enumerate(coordinates):\n",
    "        # Define the bounding box for the sub-image\n",
    "        startX = max(cX - 30, 0)\n",
    "        startY = max(cY - 30, 0)\n",
    "        endX = min(cX + 30, image.shape[1])\n",
    "        endY = min(cY + 30, image.shape[0])\n",
    "        \n",
    "        # Extract the sub-image\n",
    "        sub_image = image[startY:endY, startX:endX]\n",
    "        sub_images.append(sub_image)\n",
    "        \n",
    "        # Save the sub-image to the output directory\n",
    "        sub_image_path = os.path.join(output_dir, f\"{os.path.basename(image_path)}_sub_image_{i}.png\")\n",
    "        cv2.imwrite(sub_image_path, sub_image)\n",
    "\n",
    "    return sub_images"
   ]
  },
  {
   "cell_type": "code",
   "execution_count": 7,
   "metadata": {},
   "outputs": [],
   "source": [
    "# second_image_path = '../data/unlabeled images/20211111.lif_ctr 3.11.21NET488_MPO633_1.tif'\n",
    "# output_dir = '../data/subimages'\n",
    "# try:\n",
    "#     sub_images = extract_sub_images(second_image_path, coordinates, output_dir)\n",
    "#     print(f\"Extracted {len(sub_images)} sub-images.\")\n",
    "# except FileNotFoundError as e:\n",
    "#     print(e)"
   ]
  },
  {
   "cell_type": "markdown",
   "metadata": {},
   "source": [
    "## Batch process\n",
    "\n",
    "Since this is working pretty well, I now want to write some functions to do the subimaging automatically for the whole folder"
   ]
  },
  {
   "cell_type": "code",
   "execution_count": 8,
   "metadata": {},
   "outputs": [],
   "source": [
    "# this function uses the detect_objects2 function and iterates through the folder of the nuclei images defined in the beginning\n",
    "\n",
    "def process_images_in_folder(folder_path, output_dir):\n",
    "    # List to store coordinates of all images\n",
    "    all_coordinates = {}\n",
    "    \n",
    "    # Iterate through all files in the folder\n",
    "    for filename in os.listdir(folder_path):\n",
    "        if filename.lower().endswith(('.png', '.jpg', '.jpeg', '.tif', '.bmp')):\n",
    "            image_path = os.path.join(folder_path, filename)\n",
    "            print(f\"Processing {image_path}...\")\n",
    "            coordinates = detect_objects2(image_path, output_dir)\n",
    "            all_coordinates[filename] = coordinates\n",
    "    \n",
    "    return all_coordinates"
   ]
  },
  {
   "cell_type": "code",
   "execution_count": 9,
   "metadata": {},
   "outputs": [],
   "source": [
    "# all_coordinates = process_images_in_folder(nuclei_path, subimages_output_folder)\n",
    "# print(all_coordinates)"
   ]
  },
  {
   "cell_type": "code",
   "execution_count": 10,
   "metadata": {},
   "outputs": [],
   "source": [
    "# all_coordinates is a dictionary where the file name corresponds to a list of touples that contain the X and Y coordinates\n",
    "\n",
    "# all_coordinates"
   ]
  },
  {
   "cell_type": "code",
   "execution_count": 11,
   "metadata": {},
   "outputs": [],
   "source": [
    "# this function now iterates through all the merge-channel images to create the subimages around the coordinates saved above\n",
    "\n",
    "def main(nuclei_folder, input_folder, output_folder_base):\n",
    "    # Generate a timestamp for the output folder name\n",
    "    timestamp = datetime.now().strftime(\"%Y-%m-%d_%H-%M\")\n",
    "    output_folder = os.path.join(output_folder_base, f\"output_{timestamp}\")\n",
    "\n",
    "    # Create the main output folder and subfolders\n",
    "    if not os.path.exists(output_folder):\n",
    "        os.makedirs(output_folder)\n",
    "    \n",
    "    nuclei_detection_output_dir = os.path.join(output_folder, \"nucleus_detection\")\n",
    "    if not os.path.exists(nuclei_detection_output_dir):\n",
    "        os.makedirs(nuclei_detection_output_dir)\n",
    "\n",
    "    # Process all images in the folder to detect nuclei\n",
    "    all_coordinates = process_images_in_folder(nuclei_folder, nuclei_detection_output_dir)\n",
    "\n",
    "    # Extract and save sub-images for each image\n",
    "    for filename, coordinates in all_coordinates.items():\n",
    "        image_path = os.path.join(input_folder, filename)\n",
    "        image_path = image_path[:-11]\n",
    "        sub_image_output_dir = os.path.join(output_folder, 'subimages')\n",
    "        print(f\"Extracting sub-images for {image_path}...\")\n",
    "        extract_sub_images(image_path, coordinates, sub_image_output_dir)\n"
   ]
  },
  {
   "cell_type": "code",
   "execution_count": 12,
   "metadata": {},
   "outputs": [
    {
     "name": "stdout",
     "output_type": "stream",
     "text": [
      "Processing ../data/withoutmarker_newdata_split/blue/blue-green/20211111.lif_PMA 3.11.21NET488_MPO633_006.tif (blue).jpg...\n",
      "Processing ../data/withoutmarker_newdata_split/blue/blue-green/20211111.lif_ctr 3.11.21NET488_MPO633_014.tif (blue).jpg...\n",
      "Processing ../data/withoutmarker_newdata_split/blue/blue-green/20211111.lif_PMA 3.11.21NET488_MPO633_009.tif (blue).jpg...\n",
      "Processing ../data/withoutmarker_newdata_split/blue/blue-green/20211111.lif_PMA 3.11.21NET488_MPO633_012.tif (blue).jpg...\n",
      "Processing ../data/withoutmarker_newdata_split/blue/blue-green/20211111.lif_ctr 3.11.21NET488_MPO633_017.tif (blue).jpg...\n",
      "Processing ../data/withoutmarker_newdata_split/blue/blue-green/20211111.lif_PMA 3.11.21NET488_MPO633_003.tif (blue).jpg...\n",
      "Processing ../data/withoutmarker_newdata_split/blue/blue-green/20211111.lif_ctr 3.11.21NET488_MPO633_011.tif (blue).jpg...\n",
      "Processing ../data/withoutmarker_newdata_split/blue/blue-green/20211111.lif_ctr_27.10.21NET488_MPO 633_004.tif (blue).jpg...\n",
      "Processing ../data/withoutmarker_newdata_split/blue/blue-green/20211111.lif_PMA_27.10.21NET488_MPO 633_011.tif (blue).jpg...\n",
      "Processing ../data/withoutmarker_newdata_split/blue/blue-green/20211111.lif_PMA_27.10.21NET488_MPO 633_005.tif (blue).jpg...\n",
      "Processing ../data/withoutmarker_newdata_split/blue/blue-green/20211111.lif_ctr_27.10.21NET488_MPO 633_010.tif (blue).jpg...\n",
      "Processing ../data/withoutmarker_newdata_split/blue/blue-green/20211111.lif_PMA_27.10.21NET488_MPO 633_012.tif (blue).jpg...\n",
      "Processing ../data/withoutmarker_newdata_split/blue/blue-green/20211111.lif_ctr_27.10.21NET488_MPO 633_007.tif (blue).jpg...\n",
      "Processing ../data/withoutmarker_newdata_split/blue/blue-green/20211111.lif_ctr 3.11.21NET488_MPO633_021.tif (blue).jpg...\n",
      "Processing ../data/withoutmarker_newdata_split/blue/blue-green/20211111.lif_PMA_27.10.21NET488_MPO 633_009.tif (blue).jpg...\n",
      "Extracting sub-images for ../data/unlabeled images/20211111.lif_PMA 3.11.21NET488_MPO633_006.tif...\n",
      "Extracting sub-images for ../data/unlabeled images/20211111.lif_ctr 3.11.21NET488_MPO633_014.tif...\n",
      "Extracting sub-images for ../data/unlabeled images/20211111.lif_PMA 3.11.21NET488_MPO633_009.tif...\n",
      "Extracting sub-images for ../data/unlabeled images/20211111.lif_PMA 3.11.21NET488_MPO633_012.tif...\n",
      "Extracting sub-images for ../data/unlabeled images/20211111.lif_ctr 3.11.21NET488_MPO633_017.tif...\n",
      "Extracting sub-images for ../data/unlabeled images/20211111.lif_PMA 3.11.21NET488_MPO633_003.tif...\n",
      "Extracting sub-images for ../data/unlabeled images/20211111.lif_ctr 3.11.21NET488_MPO633_011.tif...\n",
      "Extracting sub-images for ../data/unlabeled images/20211111.lif_ctr_27.10.21NET488_MPO 633_004.tif...\n",
      "Extracting sub-images for ../data/unlabeled images/20211111.lif_PMA_27.10.21NET488_MPO 633_011.tif...\n",
      "Extracting sub-images for ../data/unlabeled images/20211111.lif_PMA_27.10.21NET488_MPO 633_005.tif...\n",
      "Extracting sub-images for ../data/unlabeled images/20211111.lif_ctr_27.10.21NET488_MPO 633_010.tif...\n",
      "Extracting sub-images for ../data/unlabeled images/20211111.lif_PMA_27.10.21NET488_MPO 633_012.tif...\n",
      "Extracting sub-images for ../data/unlabeled images/20211111.lif_ctr_27.10.21NET488_MPO 633_007.tif...\n",
      "Extracting sub-images for ../data/unlabeled images/20211111.lif_ctr 3.11.21NET488_MPO633_021.tif...\n",
      "Extracting sub-images for ../data/unlabeled images/20211111.lif_PMA_27.10.21NET488_MPO 633_009.tif...\n"
     ]
    }
   ],
   "source": [
    "main(nuclei_path, merged_images_folder, subimages_output_folder)"
   ]
  }
 ],
 "metadata": {
  "kernelspec": {
   "display_name": ".venv",
   "language": "python",
   "name": "python3"
  },
  "language_info": {
   "codemirror_mode": {
    "name": "ipython",
    "version": 3
   },
   "file_extension": ".py",
   "mimetype": "text/x-python",
   "name": "python",
   "nbconvert_exporter": "python",
   "pygments_lexer": "ipython3",
   "version": "3.11.3"
  }
 },
 "nbformat": 4,
 "nbformat_minor": 2
}
