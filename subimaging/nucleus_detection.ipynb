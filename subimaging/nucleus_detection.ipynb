{
 "cells": [
  {
   "cell_type": "code",
   "execution_count": 18,
   "metadata": {},
   "outputs": [],
   "source": [
    "# import packages\n",
    "import cv2\n",
    "import numpy as np\n",
    "import os\n",
    "from datetime import datetime\n",
    "\n"
   ]
  },
  {
   "cell_type": "code",
   "execution_count": 19,
   "metadata": {},
   "outputs": [],
   "source": [
    "# define the paths for the folders\n",
    "\n",
    "nuclei_path = \"../data/withoutmarker_newdata_split/blue\"\n",
    "merged_images_folder = \"../data/unlabeled images\"\n",
    "subimages_output_folder = \"../data/subimages\"\n",
    "\n",
    "# if this boolean is set to True, you will follow the nuclei detection for each image one by one and have to push any button to continue\n",
    "follow_nuclei_detection = False"
   ]
  },
  {
   "cell_type": "code",
   "execution_count": 20,
   "metadata": {},
   "outputs": [],
   "source": [
    "# function to detect the nuclei\n",
    "def detect_objects2(image_path, output_dir):\n",
    "    # Load the image\n",
    "    image = cv2.imread(image_path, cv2.IMREAD_GRAYSCALE)\n",
    "    if image is None:\n",
    "        raise FileNotFoundError(f\"Image file not found at the path: {image_path}\")\n",
    "\n",
    "    # Apply a Gaussian blur to the image\n",
    "    blurred = cv2.GaussianBlur(image, (11, 11), 0)\n",
    "\n",
    "    # Apply thresholding to create a binary image\n",
    "    _, thresh = cv2.threshold(blurred, 50, 255, cv2.THRESH_BINARY)\n",
    "\n",
    "    # Apply morphological closing to fill small holes\n",
    "    kernel = np.ones((5, 5), np.uint8)\n",
    "    closing = cv2.morphologyEx(thresh, cv2.MORPH_CLOSE, kernel)\n",
    "\n",
    "    # Dilate the image to merge close contours\n",
    "    dilated = cv2.dilate(closing, kernel, iterations=2)\n",
    "\n",
    "    # Find contours\n",
    "    contours, _ = cv2.findContours(dilated, cv2.RETR_EXTERNAL, cv2.CHAIN_APPROX_SIMPLE)\n",
    "\n",
    "    # Draw detected contours as red circles\n",
    "    color_image = cv2.cvtColor(image, cv2.COLOR_GRAY2BGR)\n",
    "    coordinates = []\n",
    "\n",
    "    for contour in contours:\n",
    "        # Get the moments to calculate the center of the contour\n",
    "        M = cv2.moments(contour)\n",
    "        if M[\"m00\"] != 0:\n",
    "            cX = int(M[\"m10\"] / M[\"m00\"])\n",
    "            cY = int(M[\"m01\"] / M[\"m00\"])\n",
    "            a\n",
    "            # Calculate aspect ratio and circularity\n",
    "            x, y, w, h = cv2.boundingRect(contour)\n",
    "            aspect_ratio = float(w) / h\n",
    "            area = cv2.contourArea(contour)\n",
    "            perimeter = cv2.arcLength(contour, True)\n",
    "            if perimeter == 0:\n",
    "                continue\n",
    "            circularity = 4 * np.pi * (area / (perimeter * perimeter))\n",
    "\n",
    "            # Filter based on aspect ratio and circularity\n",
    "            if 0.75 <= aspect_ratio <= 1.25 and circularity > 0.5:\n",
    "                coordinates.append((cX, cY))\n",
    "                # Draw the center of the contour\n",
    "                cv2.circle(color_image, (cX, cY), 5, (0, 0, 255), -1)\n",
    "\n",
    "   # Save the image with detected centers\n",
    "    output_image_path = os.path.join(output_dir, f\"{os.path.basename(image_path)}_detected.png\")\n",
    "    cv2.imwrite(output_image_path, color_image)\n",
    "\n",
    "    # Display the image with detected centers, active by setting follow_nuclei_detection as True above\n",
    "    if follow_nuclei_detection:\n",
    "        cv2.imshow(\"Detected Centers\", color_image)\n",
    "        cv2.waitKey(0)\n",
    "        cv2.destroyAllWindows()\n",
    "\n",
    "    return coordinates"
   ]
  },
  {
   "cell_type": "code",
   "execution_count": 21,
   "metadata": {},
   "outputs": [],
   "source": [
    "# image_path= '../data/withoutmarker_newdata_split/blue/20211111.lif_ctr 3.11.21NET488_MPO633_1.tif (blue).jpg'\n",
    "# coordinates = detect_objects2(image_path)\n",
    "# nuclei_number = len(coordinates)\n",
    "# print(f'{nuclei_number} nuclei were detected.')"
   ]
  },
  {
   "cell_type": "code",
   "execution_count": 22,
   "metadata": {},
   "outputs": [],
   "source": [
    "# coordinates"
   ]
  },
  {
   "cell_type": "code",
   "execution_count": 23,
   "metadata": {},
   "outputs": [],
   "source": [
    "# now we use these coordinates to do the subimaging on the merge-channel images\n",
    "\n",
    "def extract_sub_images(image_path, coordinates, output_dir):\n",
    "    # Load the second image\n",
    "    image = cv2.imread(image_path)\n",
    "    if image is None:\n",
    "        raise FileNotFoundError(f\"Image file not found at the path: {image_path}\")\n",
    "\n",
    "    if not os.path.exists(output_dir):\n",
    "        os.makedirs(output_dir)\n",
    "\n",
    "    sub_images = []\n",
    "    for i, (cX, cY) in enumerate(coordinates):\n",
    "        # Define the bounding box for the sub-image\n",
    "        startX = max(cX - 30, 0)\n",
    "        startY = max(cY - 30, 0)\n",
    "        endX = min(cX + 30, image.shape[1])\n",
    "        endY = min(cY + 30, image.shape[0])\n",
    "        \n",
    "        # Extract the sub-image\n",
    "        sub_image = image[startY:endY, startX:endX]\n",
    "        sub_images.append(sub_image)\n",
    "        \n",
    "        # Save the sub-image to the output directory\n",
    "        sub_image_path = os.path.join(output_dir, f\"{os.path.basename(image_path)}_sub_image_{i}.png\")\n",
    "        cv2.imwrite(sub_image_path, sub_image)\n",
    "\n",
    "    return sub_images"
   ]
  },
  {
   "cell_type": "code",
   "execution_count": 24,
   "metadata": {},
   "outputs": [],
   "source": [
    "# second_image_path = '../data/unlabeled images/20211111.lif_ctr 3.11.21NET488_MPO633_1.tif'\n",
    "# output_dir = '../data/subimages'\n",
    "# try:\n",
    "#     sub_images = extract_sub_images(second_image_path, coordinates, output_dir)\n",
    "#     print(f\"Extracted {len(sub_images)} sub-images.\")\n",
    "# except FileNotFoundError as e:\n",
    "#     print(e)"
   ]
  },
  {
   "cell_type": "markdown",
   "metadata": {},
   "source": [
    "## Batch process\n",
    "\n",
    "Since this is working pretty well, I now want to write some functions to do the subimaging automatically for the whole folder"
   ]
  },
  {
   "cell_type": "code",
   "execution_count": 25,
   "metadata": {},
   "outputs": [],
   "source": [
    "# this function uses the detect_objects2 function and iterates through the folder of the nuclei images defined in the beginning\n",
    "\n",
    "def process_images_in_folder(folder_path, output_dir):\n",
    "    # List to store coordinates of all images\n",
    "    all_coordinates = {}\n",
    "    \n",
    "    # Iterate through all files in the folder\n",
    "    for filename in os.listdir(folder_path):\n",
    "        if filename.lower().endswith(('.png', '.jpg', '.jpeg', '.tif', '.bmp')):\n",
    "            image_path = os.path.join(folder_path, filename)\n",
    "            print(f\"Processing {image_path}...\")\n",
    "            coordinates = detect_objects2(image_path, output_dir)\n",
    "            all_coordinates[filename] = coordinates\n",
    "    \n",
    "    return all_coordinates"
   ]
  },
  {
   "cell_type": "code",
   "execution_count": 26,
   "metadata": {},
   "outputs": [],
   "source": [
    "# all_coordinates = process_images_in_folder(nuclei_path, subimages_output_folder)\n",
    "# print(all_coordinates)"
   ]
  },
  {
   "cell_type": "code",
   "execution_count": 27,
   "metadata": {},
   "outputs": [],
   "source": [
    "# all_coordinates is a dictionary where the file name corresponds to a list of touples that contain the X and Y coordinates\n",
    "\n",
    "# all_coordinates"
   ]
  },
  {
   "cell_type": "code",
   "execution_count": 28,
   "metadata": {},
   "outputs": [],
   "source": [
    "# this function now iterates through all the merge-channel images to create the subimages around the coordinates saved above\n",
    "\n",
    "def main(nuclei_folder, input_folder, output_folder_base):\n",
    "    # Generate a timestamp for the output folder name\n",
    "    timestamp = datetime.now().strftime(\"%Y-%m-%d_%H-%M\")\n",
    "    output_folder = os.path.join(output_folder_base, f\"output_{timestamp}\")\n",
    "\n",
    "    # Create the main output folder and subfolders\n",
    "    if not os.path.exists(output_folder):\n",
    "        os.makedirs(output_folder)\n",
    "    \n",
    "    nuclei_detection_output_dir = os.path.join(output_folder, \"nucleus_detection\")\n",
    "    if not os.path.exists(nuclei_detection_output_dir):\n",
    "        os.makedirs(nuclei_detection_output_dir)\n",
    "\n",
    "    # Process all images in the folder to detect nuclei\n",
    "    all_coordinates = process_images_in_folder(nuclei_folder, nuclei_detection_output_dir)\n",
    "\n",
    "    # Extract and save sub-images for each image\n",
    "    for filename, coordinates in all_coordinates.items():\n",
    "        image_path = os.path.join(input_folder, filename)\n",
    "        image_path = image_path[:-11]\n",
    "        sub_image_output_dir = os.path.join(output_folder, 'subimages')\n",
    "        print(f\"Extracting sub-images for {image_path}...\")\n",
    "        extract_sub_images(image_path, coordinates, sub_image_output_dir)\n"
   ]
  },
  {
   "cell_type": "code",
   "execution_count": 30,
   "metadata": {},
   "outputs": [
    {
     "name": "stdout",
     "output_type": "stream",
     "text": [
      "Processing ../data/withoutmarker_newdata_split/blue/20211111.lif_PMA 3.11.21NET488_MPO633_006.tif (blue).jpg...\n"
     ]
    },
    {
     "ename": "NameError",
     "evalue": "name 'a' is not defined",
     "output_type": "error",
     "traceback": [
      "\u001b[0;31m---------------------------------------------------------------------------\u001b[0m",
      "\u001b[0;31mNameError\u001b[0m                                 Traceback (most recent call last)",
      "Cell \u001b[0;32mIn[30], line 1\u001b[0m\n\u001b[0;32m----> 1\u001b[0m \u001b[43mmain\u001b[49m\u001b[43m(\u001b[49m\u001b[43mnuclei_path\u001b[49m\u001b[43m,\u001b[49m\u001b[43m \u001b[49m\u001b[43mmerged_images_folder\u001b[49m\u001b[43m,\u001b[49m\u001b[43m \u001b[49m\u001b[43msubimages_output_folder\u001b[49m\u001b[43m)\u001b[49m\n",
      "Cell \u001b[0;32mIn[28], line 17\u001b[0m, in \u001b[0;36mmain\u001b[0;34m(nuclei_folder, input_folder, output_folder_base)\u001b[0m\n\u001b[1;32m     14\u001b[0m     os\u001b[38;5;241m.\u001b[39mmakedirs(nuclei_detection_output_dir)\n\u001b[1;32m     16\u001b[0m \u001b[38;5;66;03m# Process all images in the folder to detect nuclei\u001b[39;00m\n\u001b[0;32m---> 17\u001b[0m all_coordinates \u001b[38;5;241m=\u001b[39m \u001b[43mprocess_images_in_folder\u001b[49m\u001b[43m(\u001b[49m\u001b[43mnuclei_folder\u001b[49m\u001b[43m,\u001b[49m\u001b[43m \u001b[49m\u001b[43mnuclei_detection_output_dir\u001b[49m\u001b[43m)\u001b[49m\n\u001b[1;32m     19\u001b[0m \u001b[38;5;66;03m# Extract and save sub-images for each image\u001b[39;00m\n\u001b[1;32m     20\u001b[0m \u001b[38;5;28;01mfor\u001b[39;00m filename, coordinates \u001b[38;5;129;01min\u001b[39;00m all_coordinates\u001b[38;5;241m.\u001b[39mitems():\n",
      "Cell \u001b[0;32mIn[25], line 12\u001b[0m, in \u001b[0;36mprocess_images_in_folder\u001b[0;34m(folder_path, output_dir)\u001b[0m\n\u001b[1;32m     10\u001b[0m         image_path \u001b[38;5;241m=\u001b[39m os\u001b[38;5;241m.\u001b[39mpath\u001b[38;5;241m.\u001b[39mjoin(folder_path, filename)\n\u001b[1;32m     11\u001b[0m         \u001b[38;5;28mprint\u001b[39m(\u001b[38;5;124mf\u001b[39m\u001b[38;5;124m\"\u001b[39m\u001b[38;5;124mProcessing \u001b[39m\u001b[38;5;132;01m{\u001b[39;00mimage_path\u001b[38;5;132;01m}\u001b[39;00m\u001b[38;5;124m...\u001b[39m\u001b[38;5;124m\"\u001b[39m)\n\u001b[0;32m---> 12\u001b[0m         coordinates \u001b[38;5;241m=\u001b[39m \u001b[43mdetect_objects2\u001b[49m\u001b[43m(\u001b[49m\u001b[43mimage_path\u001b[49m\u001b[43m,\u001b[49m\u001b[43m \u001b[49m\u001b[43moutput_dir\u001b[49m\u001b[43m)\u001b[49m\n\u001b[1;32m     13\u001b[0m         all_coordinates[filename] \u001b[38;5;241m=\u001b[39m coordinates\n\u001b[1;32m     15\u001b[0m \u001b[38;5;28;01mreturn\u001b[39;00m all_coordinates\n",
      "Cell \u001b[0;32mIn[20], line 34\u001b[0m, in \u001b[0;36mdetect_objects2\u001b[0;34m(image_path, output_dir)\u001b[0m\n\u001b[1;32m     32\u001b[0m cX \u001b[38;5;241m=\u001b[39m \u001b[38;5;28mint\u001b[39m(M[\u001b[38;5;124m\"\u001b[39m\u001b[38;5;124mm10\u001b[39m\u001b[38;5;124m\"\u001b[39m] \u001b[38;5;241m/\u001b[39m M[\u001b[38;5;124m\"\u001b[39m\u001b[38;5;124mm00\u001b[39m\u001b[38;5;124m\"\u001b[39m])\n\u001b[1;32m     33\u001b[0m cY \u001b[38;5;241m=\u001b[39m \u001b[38;5;28mint\u001b[39m(M[\u001b[38;5;124m\"\u001b[39m\u001b[38;5;124mm01\u001b[39m\u001b[38;5;124m\"\u001b[39m] \u001b[38;5;241m/\u001b[39m M[\u001b[38;5;124m\"\u001b[39m\u001b[38;5;124mm00\u001b[39m\u001b[38;5;124m\"\u001b[39m])\n\u001b[0;32m---> 34\u001b[0m \u001b[43ma\u001b[49m\n\u001b[1;32m     35\u001b[0m \u001b[38;5;66;03m# Calculate aspect ratio and circularity\u001b[39;00m\n\u001b[1;32m     36\u001b[0m x, y, w, h \u001b[38;5;241m=\u001b[39m cv2\u001b[38;5;241m.\u001b[39mboundingRect(contour)\n",
      "\u001b[0;31mNameError\u001b[0m: name 'a' is not defined"
     ]
    }
   ],
   "source": [
    "main(nuclei_path, merged_images_folder, subimages_output_folder)"
   ]
  }
 ],
 "metadata": {
  "kernelspec": {
   "display_name": ".venv",
   "language": "python",
   "name": "python3"
  },
  "language_info": {
   "codemirror_mode": {
    "name": "ipython",
    "version": 3
   },
   "file_extension": ".py",
   "mimetype": "text/x-python",
   "name": "python",
   "nbconvert_exporter": "python",
   "pygments_lexer": "ipython3",
   "version": "3.11.3"
  }
 },
 "nbformat": 4,
 "nbformat_minor": 2
}
