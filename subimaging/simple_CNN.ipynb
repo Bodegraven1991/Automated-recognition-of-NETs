{
 "cells": [
  {
   "cell_type": "code",
   "execution_count": 1,
   "metadata": {},
   "outputs": [],
   "source": [
    "# importing the required modules\n",
    "import os\n",
    "import numpy as np\n",
    "import matplotlib.pyplot as plt\n",
    "from tensorflow.keras.models import Sequential\n",
    "from tensorflow.keras.layers import Input, Conv2D, Dense, MaxPooling2D, Activation, Flatten\n",
    "from tensorflow.keras.models import load_model\n",
    "from tensorflow.keras.preprocessing.image import ImageDataGenerator\n",
    "from sklearn.metrics import classification_report, confusion_matrix, ConfusionMatrixDisplay\n",
    "from tensorflow.keras.callbacks import EarlyStopping, ModelCheckpoint\n",
    "from tensorflow.keras.layers import Flatten, Dense, Dropout, BatchNormalization\n",
    "from tensorflow.keras.models import Model\n",
    "from tensorflow.keras.optimizers import Adam\n",
    "from sklearn.utils.class_weight import compute_class_weight\n",
    "from tensorflow.keras.preprocessing.image import load_img, img_to_array\n",
    "import tensorflow as tf\n",
    "\n",
    "from tensorflow.keras.utils import to_categorical\n",
    "import numpy as np"
   ]
  },
  {
   "cell_type": "code",
   "execution_count": 2,
   "metadata": {},
   "outputs": [
    {
     "name": "stdout",
     "output_type": "stream",
     "text": [
      "Found 744 images belonging to 2 classes.\n",
      "Found 186 images belonging to 2 classes.\n",
      "Found 465 images belonging to 2 classes.\n",
      "Found 465 images belonging to 2 classes.\n"
     ]
    }
   ],
   "source": [
    "# Constants\n",
    "IMG_SIZE = (224, 224)\n",
    "BATCH_SIZE = 32\n",
    "EPOCHS = 20\n",
    "MODEL_DIR = '../models'  # Directory to save the model\n",
    "MODEL_PATH = os.path.join(MODEL_DIR, 'simple_CNN_ctr_RGB.keras')  # Path to save the trained model\n",
    "DATASET_PATH = '../data/subimages_for_modeling/modeling_set_ctr_mod'  # Path to the dataset\n",
    "\n",
    "# Ensure the directory exists\n",
    "os.makedirs(MODEL_DIR, exist_ok=True)\n",
    "\n",
    "# Data generator with train-test split\n",
    "datagen = ImageDataGenerator(rescale=1./255, validation_split=0.2)\n",
    "\n",
    "train_generator = datagen.flow_from_directory(\n",
    "    DATASET_PATH,\n",
    "    target_size=IMG_SIZE,\n",
    "    batch_size=BATCH_SIZE,\n",
    "    class_mode='categorical',\n",
    "    subset='training'\n",
    ")\n",
    "\n",
    "validation_generator = datagen.flow_from_directory(\n",
    "    DATASET_PATH,\n",
    "    target_size=IMG_SIZE,\n",
    "    batch_size=BATCH_SIZE,\n",
    "    class_mode='categorical',\n",
    "    subset='validation'\n",
    ")\n",
    "\n",
    "# Further split validation set to create a test set\n",
    "validation_datagen = ImageDataGenerator(rescale=1./255, validation_split=0.5)\n",
    "\n",
    "validation_generator = validation_datagen.flow_from_directory(\n",
    "    DATASET_PATH,\n",
    "    target_size=IMG_SIZE,\n",
    "    batch_size=BATCH_SIZE,\n",
    "    class_mode='categorical',\n",
    "    subset='validation'\n",
    ")\n",
    "\n",
    "test_generator = validation_datagen.flow_from_directory(\n",
    "    DATASET_PATH,\n",
    "    target_size=IMG_SIZE,\n",
    "    batch_size=BATCH_SIZE,\n",
    "    class_mode='categorical',\n",
    "    subset='training'\n",
    ")"
   ]
  },
  {
   "cell_type": "code",
   "execution_count": 3,
   "metadata": {},
   "outputs": [],
   "source": [
    "# build the architecture of my model\n",
    "from tensorflow.keras import backend as K\n",
    "K.clear_session() # clear the cache of model parameters\n",
    "\n",
    "# Define the model architecture\n",
    "model = Sequential([\n",
    "    Input(shape=(224, 224, 3)),\n",
    "    Conv2D(filters=6, kernel_size=(3, 3), strides=(1, 1), padding='valid', activation='relu', kernel_regularizer=tf.keras.regularizers.l1(0.001)),\n",
    "    MaxPooling2D(pool_size=(2, 2), strides=2),\n",
    "    \n",
    "    Flatten(),\n",
    "    Dropout(rate=0.5),  # Adding a dropout layer with a dropout rate of 50%\n",
    "    Dense(units=2, activation='softmax')\n",
    "])\n"
   ]
  },
  {
   "cell_type": "code",
   "execution_count": 4,
   "metadata": {},
   "outputs": [
    {
     "data": {
      "text/html": [
       "<pre style=\"white-space:pre;overflow-x:auto;line-height:normal;font-family:Menlo,'DejaVu Sans Mono',consolas,'Courier New',monospace\"><span style=\"font-weight: bold\">Model: \"sequential\"</span>\n",
       "</pre>\n"
      ],
      "text/plain": [
       "\u001b[1mModel: \"sequential\"\u001b[0m\n"
      ]
     },
     "metadata": {},
     "output_type": "display_data"
    },
    {
     "data": {
      "text/html": [
       "<pre style=\"white-space:pre;overflow-x:auto;line-height:normal;font-family:Menlo,'DejaVu Sans Mono',consolas,'Courier New',monospace\">┏━━━━━━━━━━━━━━━━━━━━━━━━━━━━━━━━━┳━━━━━━━━━━━━━━━━━━━━━━━━┳━━━━━━━━━━━━━━━┓\n",
       "┃<span style=\"font-weight: bold\"> Layer (type)                    </span>┃<span style=\"font-weight: bold\"> Output Shape           </span>┃<span style=\"font-weight: bold\">       Param # </span>┃\n",
       "┡━━━━━━━━━━━━━━━━━━━━━━━━━━━━━━━━━╇━━━━━━━━━━━━━━━━━━━━━━━━╇━━━━━━━━━━━━━━━┩\n",
       "│ conv2d (<span style=\"color: #0087ff; text-decoration-color: #0087ff\">Conv2D</span>)                 │ (<span style=\"color: #00d7ff; text-decoration-color: #00d7ff\">None</span>, <span style=\"color: #00af00; text-decoration-color: #00af00\">222</span>, <span style=\"color: #00af00; text-decoration-color: #00af00\">222</span>, <span style=\"color: #00af00; text-decoration-color: #00af00\">6</span>)    │           <span style=\"color: #00af00; text-decoration-color: #00af00\">168</span> │\n",
       "├─────────────────────────────────┼────────────────────────┼───────────────┤\n",
       "│ max_pooling2d (<span style=\"color: #0087ff; text-decoration-color: #0087ff\">MaxPooling2D</span>)    │ (<span style=\"color: #00d7ff; text-decoration-color: #00d7ff\">None</span>, <span style=\"color: #00af00; text-decoration-color: #00af00\">111</span>, <span style=\"color: #00af00; text-decoration-color: #00af00\">111</span>, <span style=\"color: #00af00; text-decoration-color: #00af00\">6</span>)    │             <span style=\"color: #00af00; text-decoration-color: #00af00\">0</span> │\n",
       "├─────────────────────────────────┼────────────────────────┼───────────────┤\n",
       "│ flatten (<span style=\"color: #0087ff; text-decoration-color: #0087ff\">Flatten</span>)               │ (<span style=\"color: #00d7ff; text-decoration-color: #00d7ff\">None</span>, <span style=\"color: #00af00; text-decoration-color: #00af00\">73926</span>)          │             <span style=\"color: #00af00; text-decoration-color: #00af00\">0</span> │\n",
       "├─────────────────────────────────┼────────────────────────┼───────────────┤\n",
       "│ dropout (<span style=\"color: #0087ff; text-decoration-color: #0087ff\">Dropout</span>)               │ (<span style=\"color: #00d7ff; text-decoration-color: #00d7ff\">None</span>, <span style=\"color: #00af00; text-decoration-color: #00af00\">73926</span>)          │             <span style=\"color: #00af00; text-decoration-color: #00af00\">0</span> │\n",
       "├─────────────────────────────────┼────────────────────────┼───────────────┤\n",
       "│ dense (<span style=\"color: #0087ff; text-decoration-color: #0087ff\">Dense</span>)                   │ (<span style=\"color: #00d7ff; text-decoration-color: #00d7ff\">None</span>, <span style=\"color: #00af00; text-decoration-color: #00af00\">2</span>)              │       <span style=\"color: #00af00; text-decoration-color: #00af00\">147,854</span> │\n",
       "└─────────────────────────────────┴────────────────────────┴───────────────┘\n",
       "</pre>\n"
      ],
      "text/plain": [
       "┏━━━━━━━━━━━━━━━━━━━━━━━━━━━━━━━━━┳━━━━━━━━━━━━━━━━━━━━━━━━┳━━━━━━━━━━━━━━━┓\n",
       "┃\u001b[1m \u001b[0m\u001b[1mLayer (type)                   \u001b[0m\u001b[1m \u001b[0m┃\u001b[1m \u001b[0m\u001b[1mOutput Shape          \u001b[0m\u001b[1m \u001b[0m┃\u001b[1m \u001b[0m\u001b[1m      Param #\u001b[0m\u001b[1m \u001b[0m┃\n",
       "┡━━━━━━━━━━━━━━━━━━━━━━━━━━━━━━━━━╇━━━━━━━━━━━━━━━━━━━━━━━━╇━━━━━━━━━━━━━━━┩\n",
       "│ conv2d (\u001b[38;5;33mConv2D\u001b[0m)                 │ (\u001b[38;5;45mNone\u001b[0m, \u001b[38;5;34m222\u001b[0m, \u001b[38;5;34m222\u001b[0m, \u001b[38;5;34m6\u001b[0m)    │           \u001b[38;5;34m168\u001b[0m │\n",
       "├─────────────────────────────────┼────────────────────────┼───────────────┤\n",
       "│ max_pooling2d (\u001b[38;5;33mMaxPooling2D\u001b[0m)    │ (\u001b[38;5;45mNone\u001b[0m, \u001b[38;5;34m111\u001b[0m, \u001b[38;5;34m111\u001b[0m, \u001b[38;5;34m6\u001b[0m)    │             \u001b[38;5;34m0\u001b[0m │\n",
       "├─────────────────────────────────┼────────────────────────┼───────────────┤\n",
       "│ flatten (\u001b[38;5;33mFlatten\u001b[0m)               │ (\u001b[38;5;45mNone\u001b[0m, \u001b[38;5;34m73926\u001b[0m)          │             \u001b[38;5;34m0\u001b[0m │\n",
       "├─────────────────────────────────┼────────────────────────┼───────────────┤\n",
       "│ dropout (\u001b[38;5;33mDropout\u001b[0m)               │ (\u001b[38;5;45mNone\u001b[0m, \u001b[38;5;34m73926\u001b[0m)          │             \u001b[38;5;34m0\u001b[0m │\n",
       "├─────────────────────────────────┼────────────────────────┼───────────────┤\n",
       "│ dense (\u001b[38;5;33mDense\u001b[0m)                   │ (\u001b[38;5;45mNone\u001b[0m, \u001b[38;5;34m2\u001b[0m)              │       \u001b[38;5;34m147,854\u001b[0m │\n",
       "└─────────────────────────────────┴────────────────────────┴───────────────┘\n"
      ]
     },
     "metadata": {},
     "output_type": "display_data"
    },
    {
     "data": {
      "text/html": [
       "<pre style=\"white-space:pre;overflow-x:auto;line-height:normal;font-family:Menlo,'DejaVu Sans Mono',consolas,'Courier New',monospace\"><span style=\"font-weight: bold\"> Total params: </span><span style=\"color: #00af00; text-decoration-color: #00af00\">148,022</span> (578.21 KB)\n",
       "</pre>\n"
      ],
      "text/plain": [
       "\u001b[1m Total params: \u001b[0m\u001b[38;5;34m148,022\u001b[0m (578.21 KB)\n"
      ]
     },
     "metadata": {},
     "output_type": "display_data"
    },
    {
     "data": {
      "text/html": [
       "<pre style=\"white-space:pre;overflow-x:auto;line-height:normal;font-family:Menlo,'DejaVu Sans Mono',consolas,'Courier New',monospace\"><span style=\"font-weight: bold\"> Trainable params: </span><span style=\"color: #00af00; text-decoration-color: #00af00\">148,022</span> (578.21 KB)\n",
       "</pre>\n"
      ],
      "text/plain": [
       "\u001b[1m Trainable params: \u001b[0m\u001b[38;5;34m148,022\u001b[0m (578.21 KB)\n"
      ]
     },
     "metadata": {},
     "output_type": "display_data"
    },
    {
     "data": {
      "text/html": [
       "<pre style=\"white-space:pre;overflow-x:auto;line-height:normal;font-family:Menlo,'DejaVu Sans Mono',consolas,'Courier New',monospace\"><span style=\"font-weight: bold\"> Non-trainable params: </span><span style=\"color: #00af00; text-decoration-color: #00af00\">0</span> (0.00 B)\n",
       "</pre>\n"
      ],
      "text/plain": [
       "\u001b[1m Non-trainable params: \u001b[0m\u001b[38;5;34m0\u001b[0m (0.00 B)\n"
      ]
     },
     "metadata": {},
     "output_type": "display_data"
    }
   ],
   "source": [
    "model.summary()"
   ]
  },
  {
   "cell_type": "code",
   "execution_count": 5,
   "metadata": {},
   "outputs": [],
   "source": [
    "# compile the model\n",
    "model.compile(optimizer='Adam',loss='categorical_crossentropy',metrics=['precision'])"
   ]
  },
  {
   "cell_type": "code",
   "execution_count": 6,
   "metadata": {},
   "outputs": [
    {
     "name": "stdout",
     "output_type": "stream",
     "text": [
      "Epoch 1/20\n"
     ]
    },
    {
     "name": "stderr",
     "output_type": "stream",
     "text": [
      "/Users/mimmo/Desktop/neuefische/Automated-recognition-of-NETs/.venv/lib/python3.11/site-packages/keras/src/trainers/data_adapters/py_dataset_adapter.py:121: UserWarning: Your `PyDataset` class should call `super().__init__(**kwargs)` in its constructor. `**kwargs` can include `workers`, `use_multiprocessing`, `max_queue_size`. Do not pass these arguments to `fit()`, as they will be ignored.\n",
      "  self._warn_if_super_not_called()\n"
     ]
    },
    {
     "name": "stdout",
     "output_type": "stream",
     "text": [
      "\u001b[1m24/24\u001b[0m \u001b[32m━━━━━━━━━━━━━━━━━━━━\u001b[0m\u001b[37m\u001b[0m \u001b[1m0s\u001b[0m 76ms/step - loss: 0.4500 - precision: 0.8429\n",
      "Epoch 1: val_loss improved from inf to 0.21947, saving model to ../models/simple_CNN_ctr_RGB.keras\n",
      "\u001b[1m24/24\u001b[0m \u001b[32m━━━━━━━━━━━━━━━━━━━━\u001b[0m\u001b[37m\u001b[0m \u001b[1m3s\u001b[0m 110ms/step - loss: 0.4472 - precision: 0.8441 - val_loss: 0.2195 - val_precision: 0.9333\n",
      "Epoch 2/20\n",
      "\u001b[1m24/24\u001b[0m \u001b[32m━━━━━━━━━━━━━━━━━━━━\u001b[0m\u001b[37m\u001b[0m \u001b[1m0s\u001b[0m 88ms/step - loss: 0.1966 - precision: 0.9212\n",
      "Epoch 2: val_loss improved from 0.21947 to 0.15987, saving model to ../models/simple_CNN_ctr_RGB.keras\n",
      "\u001b[1m24/24\u001b[0m \u001b[32m━━━━━━━━━━━━━━━━━━━━\u001b[0m\u001b[37m\u001b[0m \u001b[1m3s\u001b[0m 112ms/step - loss: 0.1964 - precision: 0.9215 - val_loss: 0.1599 - val_precision: 0.9548\n",
      "Epoch 3/20\n",
      "\u001b[1m24/24\u001b[0m \u001b[32m━━━━━━━━━━━━━━━━━━━━\u001b[0m\u001b[37m\u001b[0m \u001b[1m0s\u001b[0m 84ms/step - loss: 0.0918 - precision: 0.9770\n",
      "Epoch 3: val_loss improved from 0.15987 to 0.11482, saving model to ../models/simple_CNN_ctr_RGB.keras\n",
      "\u001b[1m24/24\u001b[0m \u001b[32m━━━━━━━━━━━━━━━━━━━━\u001b[0m\u001b[37m\u001b[0m \u001b[1m3s\u001b[0m 106ms/step - loss: 0.0922 - precision: 0.9767 - val_loss: 0.1148 - val_precision: 0.9763\n",
      "Epoch 4/20\n",
      "\u001b[1m24/24\u001b[0m \u001b[32m━━━━━━━━━━━━━━━━━━━━\u001b[0m\u001b[37m\u001b[0m \u001b[1m0s\u001b[0m 78ms/step - loss: 0.0784 - precision: 0.9878\n",
      "Epoch 4: val_loss improved from 0.11482 to 0.09156, saving model to ../models/simple_CNN_ctr_RGB.keras\n",
      "\u001b[1m24/24\u001b[0m \u001b[32m━━━━━━━━━━━━━━━━━━━━\u001b[0m\u001b[37m\u001b[0m \u001b[1m3s\u001b[0m 99ms/step - loss: 0.0782 - precision: 0.9878 - val_loss: 0.0916 - val_precision: 0.9742\n",
      "Epoch 5/20\n",
      "\u001b[1m24/24\u001b[0m \u001b[32m━━━━━━━━━━━━━━━━━━━━\u001b[0m\u001b[37m\u001b[0m \u001b[1m0s\u001b[0m 79ms/step - loss: 0.0468 - precision: 0.9988\n",
      "Epoch 5: val_loss improved from 0.09156 to 0.08397, saving model to ../models/simple_CNN_ctr_RGB.keras\n",
      "\u001b[1m24/24\u001b[0m \u001b[32m━━━━━━━━━━━━━━━━━━━━\u001b[0m\u001b[37m\u001b[0m \u001b[1m3s\u001b[0m 100ms/step - loss: 0.0469 - precision: 0.9987 - val_loss: 0.0840 - val_precision: 0.9806\n",
      "Epoch 6/20\n",
      "\u001b[1m24/24\u001b[0m \u001b[32m━━━━━━━━━━━━━━━━━━━━\u001b[0m\u001b[37m\u001b[0m \u001b[1m0s\u001b[0m 81ms/step - loss: 0.0373 - precision: 1.0000\n",
      "Epoch 6: val_loss improved from 0.08397 to 0.07601, saving model to ../models/simple_CNN_ctr_RGB.keras\n",
      "\u001b[1m24/24\u001b[0m \u001b[32m━━━━━━━━━━━━━━━━━━━━\u001b[0m\u001b[37m\u001b[0m \u001b[1m3s\u001b[0m 104ms/step - loss: 0.0374 - precision: 1.0000 - val_loss: 0.0760 - val_precision: 0.9785\n",
      "Epoch 7/20\n",
      "\u001b[1m23/24\u001b[0m \u001b[32m━━━━━━━━━━━━━━━━━━━\u001b[0m\u001b[37m━\u001b[0m \u001b[1m0s\u001b[0m 80ms/step - loss: 0.0338 - precision: 1.0000\n",
      "Epoch 7: val_loss improved from 0.07601 to 0.07219, saving model to ../models/simple_CNN_ctr_RGB.keras\n",
      "\u001b[1m24/24\u001b[0m \u001b[32m━━━━━━━━━━━━━━━━━━━━\u001b[0m\u001b[37m\u001b[0m \u001b[1m3s\u001b[0m 99ms/step - loss: 0.0339 - precision: 1.0000 - val_loss: 0.0722 - val_precision: 0.9785\n",
      "Epoch 8/20\n",
      "\u001b[1m24/24\u001b[0m \u001b[32m━━━━━━━━━━━━━━━━━━━━\u001b[0m\u001b[37m\u001b[0m \u001b[1m0s\u001b[0m 78ms/step - loss: 0.0313 - precision: 1.0000\n",
      "Epoch 8: val_loss did not improve from 0.07219\n",
      "\u001b[1m24/24\u001b[0m \u001b[32m━━━━━━━━━━━━━━━━━━━━\u001b[0m\u001b[37m\u001b[0m \u001b[1m3s\u001b[0m 98ms/step - loss: 0.0313 - precision: 1.0000 - val_loss: 0.0764 - val_precision: 0.9785\n",
      "Epoch 9/20\n",
      "\u001b[1m24/24\u001b[0m \u001b[32m━━━━━━━━━━━━━━━━━━━━\u001b[0m\u001b[37m\u001b[0m \u001b[1m0s\u001b[0m 91ms/step - loss: 0.0291 - precision: 1.0000\n",
      "Epoch 9: val_loss did not improve from 0.07219\n",
      "\u001b[1m24/24\u001b[0m \u001b[32m━━━━━━━━━━━━━━━━━━━━\u001b[0m\u001b[37m\u001b[0m \u001b[1m3s\u001b[0m 114ms/step - loss: 0.0291 - precision: 1.0000 - val_loss: 0.0739 - val_precision: 0.9806\n",
      "Epoch 10/20\n",
      "\u001b[1m24/24\u001b[0m \u001b[32m━━━━━━━━━━━━━━━━━━━━\u001b[0m\u001b[37m\u001b[0m \u001b[1m0s\u001b[0m 81ms/step - loss: 0.0266 - precision: 1.0000\n",
      "Epoch 10: val_loss did not improve from 0.07219\n",
      "\u001b[1m24/24\u001b[0m \u001b[32m━━━━━━━━━━━━━━━━━━━━\u001b[0m\u001b[37m\u001b[0m \u001b[1m3s\u001b[0m 102ms/step - loss: 0.0266 - precision: 1.0000 - val_loss: 0.0747 - val_precision: 0.9806\n",
      "Epoch 11/20\n",
      "\u001b[1m24/24\u001b[0m \u001b[32m━━━━━━━━━━━━━━━━━━━━\u001b[0m\u001b[37m\u001b[0m \u001b[1m0s\u001b[0m 76ms/step - loss: 0.0251 - precision: 1.0000\n",
      "Epoch 11: val_loss did not improve from 0.07219\n",
      "\u001b[1m24/24\u001b[0m \u001b[32m━━━━━━━━━━━━━━━━━━━━\u001b[0m\u001b[37m\u001b[0m \u001b[1m2s\u001b[0m 97ms/step - loss: 0.0251 - precision: 1.0000 - val_loss: 0.0743 - val_precision: 0.9806\n",
      "Epoch 12/20\n",
      "\u001b[1m24/24\u001b[0m \u001b[32m━━━━━━━━━━━━━━━━━━━━\u001b[0m\u001b[37m\u001b[0m \u001b[1m0s\u001b[0m 85ms/step - loss: 0.0245 - precision: 1.0000\n",
      "Epoch 12: val_loss improved from 0.07219 to 0.07157, saving model to ../models/simple_CNN_ctr_RGB.keras\n",
      "\u001b[1m24/24\u001b[0m \u001b[32m━━━━━━━━━━━━━━━━━━━━\u001b[0m\u001b[37m\u001b[0m \u001b[1m3s\u001b[0m 109ms/step - loss: 0.0245 - precision: 1.0000 - val_loss: 0.0716 - val_precision: 0.9785\n",
      "Epoch 13/20\n",
      "\u001b[1m24/24\u001b[0m \u001b[32m━━━━━━━━━━━━━━━━━━━━\u001b[0m\u001b[37m\u001b[0m \u001b[1m0s\u001b[0m 94ms/step - loss: 0.0242 - precision: 1.0000\n",
      "Epoch 13: val_loss did not improve from 0.07157\n",
      "\u001b[1m24/24\u001b[0m \u001b[32m━━━━━━━━━━━━━━━━━━━━\u001b[0m\u001b[37m\u001b[0m \u001b[1m3s\u001b[0m 116ms/step - loss: 0.0242 - precision: 1.0000 - val_loss: 0.0731 - val_precision: 0.9785\n",
      "Epoch 14/20\n",
      "\u001b[1m24/24\u001b[0m \u001b[32m━━━━━━━━━━━━━━━━━━━━\u001b[0m\u001b[37m\u001b[0m \u001b[1m0s\u001b[0m 86ms/step - loss: 0.0239 - precision: 1.0000\n",
      "Epoch 14: val_loss did not improve from 0.07157\n",
      "\u001b[1m24/24\u001b[0m \u001b[32m━━━━━━━━━━━━━━━━━━━━\u001b[0m\u001b[37m\u001b[0m \u001b[1m3s\u001b[0m 109ms/step - loss: 0.0239 - precision: 1.0000 - val_loss: 0.0826 - val_precision: 0.9785\n",
      "Epoch 15/20\n",
      "\u001b[1m24/24\u001b[0m \u001b[32m━━━━━━━━━━━━━━━━━━━━\u001b[0m\u001b[37m\u001b[0m \u001b[1m0s\u001b[0m 84ms/step - loss: 0.0235 - precision: 1.0000\n",
      "Epoch 15: val_loss did not improve from 0.07157\n",
      "\u001b[1m24/24\u001b[0m \u001b[32m━━━━━━━━━━━━━━━━━━━━\u001b[0m\u001b[37m\u001b[0m \u001b[1m3s\u001b[0m 106ms/step - loss: 0.0235 - precision: 1.0000 - val_loss: 0.0777 - val_precision: 0.9763\n",
      "Epoch 16/20\n",
      "\u001b[1m24/24\u001b[0m \u001b[32m━━━━━━━━━━━━━━━━━━━━\u001b[0m\u001b[37m\u001b[0m \u001b[1m0s\u001b[0m 81ms/step - loss: 0.0227 - precision: 1.0000\n",
      "Epoch 16: val_loss did not improve from 0.07157\n",
      "\u001b[1m24/24\u001b[0m \u001b[32m━━━━━━━━━━━━━━━━━━━━\u001b[0m\u001b[37m\u001b[0m \u001b[1m3s\u001b[0m 103ms/step - loss: 0.0227 - precision: 1.0000 - val_loss: 0.0746 - val_precision: 0.9785\n",
      "Epoch 17/20\n",
      "\u001b[1m24/24\u001b[0m \u001b[32m━━━━━━━━━━━━━━━━━━━━\u001b[0m\u001b[37m\u001b[0m \u001b[1m0s\u001b[0m 81ms/step - loss: 0.0224 - precision: 1.0000\n",
      "Epoch 17: val_loss did not improve from 0.07157\n",
      "\u001b[1m24/24\u001b[0m \u001b[32m━━━━━━━━━━━━━━━━━━━━\u001b[0m\u001b[37m\u001b[0m \u001b[1m3s\u001b[0m 103ms/step - loss: 0.0224 - precision: 1.0000 - val_loss: 0.0729 - val_precision: 0.9785\n",
      "Model saved at ../models/simple_CNN_ctr_RGB.keras\n"
     ]
    }
   ],
   "source": [
    "# Callbacks\n",
    "early_stopping = EarlyStopping(monitor='val_loss', patience=5, restore_best_weights=True)\n",
    "model_checkpoint = ModelCheckpoint(MODEL_PATH, save_best_only=True, monitor='val_loss', verbose=1)\n",
    "\n",
    "# Train the model\n",
    "history = model.fit(\n",
    "    train_generator,\n",
    "    epochs=EPOCHS,\n",
    "    validation_data=validation_generator,\n",
    "    callbacks=[early_stopping, model_checkpoint]\n",
    ")\n",
    "\n",
    "# Save the final model\n",
    "model.save(MODEL_PATH)\n",
    "print(f\"Model saved at {MODEL_PATH}\")"
   ]
  },
  {
   "cell_type": "code",
   "execution_count": 7,
   "metadata": {},
   "outputs": [
    {
     "name": "stdout",
     "output_type": "stream",
     "text": [
      "\u001b[1m15/15\u001b[0m \u001b[32m━━━━━━━━━━━━━━━━━━━━\u001b[0m\u001b[37m\u001b[0m \u001b[1m1s\u001b[0m 33ms/step\n",
      "Classification Report:\n",
      "                   precision    recall  f1-score   support\n",
      "\n",
      "    NET_negative       0.63      0.63      0.63       285\n",
      "NET_positive_ctr       0.41      0.41      0.41       180\n",
      "\n",
      "        accuracy                           0.54       465\n",
      "       macro avg       0.52      0.52      0.52       465\n",
      "    weighted avg       0.54      0.54      0.54       465\n",
      "\n"
     ]
    },
    {
     "data": {
      "image/png": "[encoded data removed]",
      "text/plain": [
       "<Figure size 640x480 with 2 Axes>"
      ]
     },
     "metadata": {},
     "output_type": "display_data"
    }
   ],
   "source": [
    "# get the metrics\n",
    "# Load the trained model\n",
    "model = load_model(MODEL_PATH, custom_objects={'Precision': tf.keras.metrics.Precision})\n",
    "\n",
    "# Make predictions\n",
    "predictions = model.predict(test_generator)\n",
    "predicted_classes = np.argmax(predictions, axis=1)\n",
    "\n",
    "# Get true labels\n",
    "true_classes = test_generator.classes\n",
    "class_labels = list(test_generator.class_indices.keys())\n",
    "\n",
    "# Calculate precision, recall, F1 score\n",
    "report = classification_report(true_classes, predicted_classes, target_names=class_labels)\n",
    "print(\"Classification Report:\\n\", report)\n",
    "\n",
    "# Compute and plot confusion matrix\n",
    "cm = confusion_matrix(true_classes, predicted_classes)\n",
    "disp = ConfusionMatrixDisplay(confusion_matrix=cm, display_labels=class_labels)\n",
    "disp.plot(cmap=plt.cm.Blues)\n",
    "plt.title('Confusion Matrix')\n",
    "plt.show()"
   ]
  },
  {
   "cell_type": "code",
   "execution_count": 8,
   "metadata": {},
   "outputs": [
    {
     "data": {
      "text/plain": [
       "<matplotlib.legend.Legend at 0x28db80690>"
      ]
     },
     "execution_count": 8,
     "metadata": {},
     "output_type": "execute_result"
    },
    {
     "data": {
      "image/png": "[encoded data removed]",
      "text/plain": [
       "<Figure size 640x480 with 1 Axes>"
      ]
     },
     "metadata": {},
     "output_type": "display_data"
    }
   ],
   "source": [
    "from matplotlib import pyplot as plt\n",
    "plt.plot(history.history['loss'],label='train_loss')\n",
    "plt.plot(history.history['val_loss'],label='val_loss')\n",
    "plt.xlabel('epochs')\n",
    "plt.ylabel('loss')\n",
    "plt.legend()"
   ]
  },
  {
   "cell_type": "code",
   "execution_count": 9,
   "metadata": {},
   "outputs": [
    {
     "name": "stdout",
     "output_type": "stream",
     "text": [
      "\u001b[1m1/1\u001b[0m \u001b[32m━━━━━━━━━━━━━━━━━━━━\u001b[0m\u001b[37m\u001b[0m \u001b[1m0s\u001b[0m 28ms/step\n",
      "Predicted class: [1]\n",
      "Prediction probabilities: [[0.00252484 0.9974751 ]]\n"
     ]
    }
   ],
   "source": [
    "# Function to preprocess the image\n",
    "def preprocess_image(image_path, target_size=IMG_SIZE):\n",
    "    # Load the image with the target size\n",
    "    img = load_img(image_path, target_size=target_size)\n",
    "    # Convert the image to a numpy array\n",
    "    img_array = img_to_array(img)\n",
    "    # Expand dimensions to match the shape the model expects (1, 224, 224, 3)\n",
    "    img_array = np.expand_dims(img_array, axis=0)\n",
    "    # Rescale the image by dividing by 255\n",
    "    img_array = img_array / 255.0\n",
    "    return img_array\n",
    "\n",
    "# Function to make and decode the prediction\n",
    "def predict_image(image_path, model):\n",
    "    # Preprocess the image\n",
    "    preprocessed_image = preprocess_image(image_path)\n",
    "    # Make the prediction\n",
    "    prediction = model.predict(preprocessed_image)\n",
    "    # Decode the prediction\n",
    "    predicted_class = np.argmax(prediction, axis=1)\n",
    "    return predicted_class, prediction\n",
    "\n",
    "# Example usage\n",
    "image_path = '../data/subimages_for_modeling/NET_positive_ctr/20211111.lif_ctr 3.11.21NET488_MPO633_006.tif_sub_image_60.png'  # Replace with the path to your image\n",
    "\n",
    "# Ensure the image path exists\n",
    "if os.path.exists(image_path):\n",
    "    predicted_class, prediction = predict_image(image_path, model)\n",
    "    print(f\"Predicted class: {predicted_class}\")\n",
    "    print(f\"Prediction probabilities: {prediction}\")\n",
    "else:\n",
    "    print(f\"The specified image path does not exist: {image_path}\")"
   ]
  },
  {
   "cell_type": "code",
   "execution_count": 10,
   "metadata": {},
   "outputs": [
    {
     "name": "stdout",
     "output_type": "stream",
     "text": [
      "\u001b[1m15/15\u001b[0m \u001b[32m━━━━━━━━━━━━━━━━━━━━\u001b[0m\u001b[37m\u001b[0m \u001b[1m1s\u001b[0m 34ms/step\n",
      "                                            Filename  TrueLabel  \\\n",
      "0  NET_negative/20211111.lif_ctr 3.11.21NET488_MP...          0   \n",
      "1  NET_negative/20211111.lif_ctr 3.11.21NET488_MP...          0   \n",
      "2  NET_negative/20211111.lif_ctr 3.11.21NET488_MP...          0   \n",
      "3  NET_negative/20211111.lif_ctr 3.11.21NET488_MP...          0   \n",
      "4  NET_negative/20211111.lif_ctr 3.11.21NET488_MP...          0   \n",
      "\n",
      "   ProbCategory0  ProbCategory1  \n",
      "0       0.999988   1.237016e-05  \n",
      "1       0.999995   5.055252e-06  \n",
      "2       1.000000   3.119891e-07  \n",
      "3       0.999725   2.746146e-04  \n",
      "4       0.000051   9.999493e-01  \n",
      "Classification Report:\n",
      "                   precision    recall  f1-score   support\n",
      "\n",
      "    NET_negative       0.64      0.64      0.64       285\n",
      "NET_positive_ctr       0.43      0.43      0.43       180\n",
      "\n",
      "        accuracy                           0.56       465\n",
      "       macro avg       0.54      0.54      0.54       465\n",
      "    weighted avg       0.56      0.56      0.56       465\n",
      "\n"
     ]
    },
    {
     "data": {
      "image/png": "[encoded data removed]",
      "text/plain": [
       "<Figure size 640x480 with 2 Axes>"
      ]
     },
     "metadata": {},
     "output_type": "display_data"
    }
   ],
   "source": [
    "import numpy as np\n",
    "import pandas as pd\n",
    "import os\n",
    "import tensorflow as tf\n",
    "from tensorflow.keras.models import load_model\n",
    "from tensorflow.keras.preprocessing.image import ImageDataGenerator\n",
    "from sklearn.metrics import classification_report, confusion_matrix, ConfusionMatrixDisplay\n",
    "import matplotlib.pyplot as plt\n",
    "\n",
    "# Constants\n",
    "MODEL_PATH = '../models/simple_CNN_ctr_RGB.keras'\n",
    "IMG_SIZE = (224, 224)\n",
    "BATCH_SIZE = 32\n",
    "DATASET_PATH = '../data/subimages_for_modeling/modeling_set_ctr_mod'\n",
    "THRESHOLD = 0.25  # Custom threshold for category 2\n",
    "\n",
    "# Load the trained model with custom objects if any\n",
    "model = load_model(MODEL_PATH, custom_objects={'Precision': tf.keras.metrics.Precision})\n",
    "\n",
    "# Make predictions\n",
    "predictions = model.predict(test_generator)\n",
    "\n",
    "# Apply custom threshold logic to adjust predictions\n",
    "predicted_classes = np.argmax(predictions, axis=1)  # Default class based on highest probability\n",
    "#for i in range(len(predictions)):\n",
    "#    if predictions[i][1] >= THRESHOLD:  # Assuming class 2 corresponds to index 1\n",
    "#        predicted_classes[i] = 1  # Force into category 2 if probability is >= threshold\n",
    "\n",
    "# Get true labels\n",
    "true_classes = test_generator.classes\n",
    "class_labels = list(test_generator.class_indices.keys())\n",
    "\n",
    "# Create a DataFrame with image filenames, true labels, and predicted probabilities\n",
    "filenames = test_generator.filenames\n",
    "prob_category_0 = predictions[:, 0]\n",
    "prob_category_1 = predictions[:, 1]\n",
    "\n",
    "data = {\n",
    "    'Filename': filenames,\n",
    "    'TrueLabel': true_classes,\n",
    "    'ProbCategory0': prob_category_0,\n",
    "    'ProbCategory1': prob_category_1\n",
    "}\n",
    "\n",
    "df = pd.DataFrame(data)\n",
    "\n",
    "# Display the first few rows of the DataFrame\n",
    "print(df.head())\n",
    "\n",
    "# Optionally, save the DataFrame to a CSV file\n",
    "df.to_csv('predictions_with_probabilities.csv', index=False)\n",
    "\n",
    "# Calculate precision, recall, F1 score\n",
    "report = classification_report(true_classes, predicted_classes, target_names=class_labels)\n",
    "print(\"Classification Report:\\n\", report)\n",
    "\n",
    "# Compute and plot confusion matrix\n",
    "cm = confusion_matrix(true_classes, predicted_classes)\n",
    "disp = ConfusionMatrixDisplay(confusion_matrix=cm, display_labels=class_labels)\n",
    "disp.plot(cmap=plt.cm.Blues)\n",
    "plt.title('Confusion Matrix')\n",
    "plt.show()\n"
   ]
  },
  {
   "cell_type": "code",
   "execution_count": 11,
   "metadata": {},
   "outputs": [
    {
     "data": {
      "text/html": [
       "<div>\n",
       "<style scoped>\n",
       "    .dataframe tbody tr th:only-of-type {\n",
       "        vertical-align: middle;\n",
       "    }\n",
       "\n",
       "    .dataframe tbody tr th {\n",
       "        vertical-align: top;\n",
       "    }\n",
       "\n",
       "    .dataframe thead th {\n",
       "        text-align: right;\n",
       "    }\n",
       "</style>\n",
       "<table border=\"1\" class=\"dataframe\">\n",
       "  <thead>\n",
       "    <tr style=\"text-align: right;\">\n",
       "      <th></th>\n",
       "      <th>Filename</th>\n",
       "      <th>TrueLabel</th>\n",
       "      <th>ProbCategory0</th>\n",
       "      <th>ProbCategory1</th>\n",
       "    </tr>\n",
       "  </thead>\n",
       "  <tbody>\n",
       "    <tr>\n",
       "      <th>0</th>\n",
       "      <td>NET_negative/20211111.lif_ctr 3.11.21NET488_MP...</td>\n",
       "      <td>0</td>\n",
       "      <td>0.999988</td>\n",
       "      <td>1.237016e-05</td>\n",
       "    </tr>\n",
       "    <tr>\n",
       "      <th>1</th>\n",
       "      <td>NET_negative/20211111.lif_ctr 3.11.21NET488_MP...</td>\n",
       "      <td>0</td>\n",
       "      <td>0.999995</td>\n",
       "      <td>5.055252e-06</td>\n",
       "    </tr>\n",
       "    <tr>\n",
       "      <th>2</th>\n",
       "      <td>NET_negative/20211111.lif_ctr 3.11.21NET488_MP...</td>\n",
       "      <td>0</td>\n",
       "      <td>1.000000</td>\n",
       "      <td>3.119891e-07</td>\n",
       "    </tr>\n",
       "    <tr>\n",
       "      <th>3</th>\n",
       "      <td>NET_negative/20211111.lif_ctr 3.11.21NET488_MP...</td>\n",
       "      <td>0</td>\n",
       "      <td>0.999725</td>\n",
       "      <td>2.746146e-04</td>\n",
       "    </tr>\n",
       "    <tr>\n",
       "      <th>4</th>\n",
       "      <td>NET_negative/20211111.lif_ctr 3.11.21NET488_MP...</td>\n",
       "      <td>0</td>\n",
       "      <td>0.000051</td>\n",
       "      <td>9.999493e-01</td>\n",
       "    </tr>\n",
       "    <tr>\n",
       "      <th>...</th>\n",
       "      <td>...</td>\n",
       "      <td>...</td>\n",
       "      <td>...</td>\n",
       "      <td>...</td>\n",
       "    </tr>\n",
       "    <tr>\n",
       "      <th>460</th>\n",
       "      <td>NET_positive_ctr/aug_4_20211111.lif_ctr_27.10....</td>\n",
       "      <td>1</td>\n",
       "      <td>0.999992</td>\n",
       "      <td>8.259819e-06</td>\n",
       "    </tr>\n",
       "    <tr>\n",
       "      <th>461</th>\n",
       "      <td>NET_positive_ctr/aug_4_20211111.lif_ctr_27.10....</td>\n",
       "      <td>1</td>\n",
       "      <td>0.958201</td>\n",
       "      <td>4.179889e-02</td>\n",
       "    </tr>\n",
       "    <tr>\n",
       "      <th>462</th>\n",
       "      <td>NET_positive_ctr/aug_4_20211111.lif_ctr_27.10....</td>\n",
       "      <td>1</td>\n",
       "      <td>0.984280</td>\n",
       "      <td>1.572001e-02</td>\n",
       "    </tr>\n",
       "    <tr>\n",
       "      <th>463</th>\n",
       "      <td>NET_positive_ctr/aug_4_20211111.lif_ctr_27.10....</td>\n",
       "      <td>1</td>\n",
       "      <td>0.004477</td>\n",
       "      <td>9.955229e-01</td>\n",
       "    </tr>\n",
       "    <tr>\n",
       "      <th>464</th>\n",
       "      <td>NET_positive_ctr/aug_4_20211111.lif_ctr_27.10....</td>\n",
       "      <td>1</td>\n",
       "      <td>0.000128</td>\n",
       "      <td>9.998723e-01</td>\n",
       "    </tr>\n",
       "  </tbody>\n",
       "</table>\n",
       "<p>465 rows × 4 columns</p>\n",
       "</div>"
      ],
      "text/plain": [
       "                                              Filename  TrueLabel  \\\n",
       "0    NET_negative/20211111.lif_ctr 3.11.21NET488_MP...          0   \n",
       "1    NET_negative/20211111.lif_ctr 3.11.21NET488_MP...          0   \n",
       "2    NET_negative/20211111.lif_ctr 3.11.21NET488_MP...          0   \n",
       "3    NET_negative/20211111.lif_ctr 3.11.21NET488_MP...          0   \n",
       "4    NET_negative/20211111.lif_ctr 3.11.21NET488_MP...          0   \n",
       "..                                                 ...        ...   \n",
       "460  NET_positive_ctr/aug_4_20211111.lif_ctr_27.10....          1   \n",
       "461  NET_positive_ctr/aug_4_20211111.lif_ctr_27.10....          1   \n",
       "462  NET_positive_ctr/aug_4_20211111.lif_ctr_27.10....          1   \n",
       "463  NET_positive_ctr/aug_4_20211111.lif_ctr_27.10....          1   \n",
       "464  NET_positive_ctr/aug_4_20211111.lif_ctr_27.10....          1   \n",
       "\n",
       "     ProbCategory0  ProbCategory1  \n",
       "0         0.999988   1.237016e-05  \n",
       "1         0.999995   5.055252e-06  \n",
       "2         1.000000   3.119891e-07  \n",
       "3         0.999725   2.746146e-04  \n",
       "4         0.000051   9.999493e-01  \n",
       "..             ...            ...  \n",
       "460       0.999992   8.259819e-06  \n",
       "461       0.958201   4.179889e-02  \n",
       "462       0.984280   1.572001e-02  \n",
       "463       0.004477   9.955229e-01  \n",
       "464       0.000128   9.998723e-01  \n",
       "\n",
       "[465 rows x 4 columns]"
      ]
     },
     "execution_count": 11,
     "metadata": {},
     "output_type": "execute_result"
    }
   ],
   "source": [
    "df"
   ]
  },
  {
   "cell_type": "code",
   "execution_count": null,
   "metadata": {},
   "outputs": [],
   "source": []
  }
 ],
 "metadata": {
  "kernelspec": {
   "display_name": ".venv",
   "language": "python",
   "name": "python3"
  },
  "language_info": {
   "codemirror_mode": {
    "name": "ipython",
    "version": 3
   },
   "file_extension": ".py",
   "mimetype": "text/x-python",
   "name": "python",
   "nbconvert_exporter": "python",
   "pygments_lexer": "ipython3",
   "version": "3.11.3"
  }
 },
 "nbformat": 4,
 "nbformat_minor": 2
}
