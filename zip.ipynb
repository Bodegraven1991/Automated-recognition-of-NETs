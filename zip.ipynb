{
 "cells": [
  {
   "cell_type": "markdown",
   "metadata": {},
   "source": [
    "This file is used to zip the raw data for transfer"
   ]
  },
  {
   "cell_type": "code",
   "execution_count": 1,
   "metadata": {},
   "outputs": [
    {
     "name": "stdout",
     "output_type": "stream",
     "text": [
      "  adding: data/ (stored 0%)\n",
      "  adding: data/unlabeled images/ (stored 0%)\n",
      "  adding: data/unlabeled images/PMA_3h_DFO-Zeitkinetik_5.tif (deflated 3%)\n",
      "  adding: data/unlabeled images/DFO+PMA_4h_DFO-Zeitkinetik_6.tif (deflated 4%)\n",
      "  adding: data/unlabeled images/PMA_2h_DFO-Zeitkinetik_4.tif (deflated 2%)\n",
      "  adding: data/unlabeled images/PMA_2h_DFO-Zeitkinetik_5.tif (deflated 2%)\n",
      "  adding: data/unlabeled images/Ctr._2h_DFO-Zeitkinetik_4.tif (deflated 1%)\n",
      "  adding: data/unlabeled images/DFO_2h_DFO-Zeitkinetik_6.tif (deflated 2%)\n",
      "  adding: data/unlabeled images/Ctr._1h_DFO-Zeitkinetik_2.tif (deflated 1%)\n",
      "  adding: data/unlabeled images/DFO_2h_DFO-Zeitkinetik_2.tif (deflated 2%)\n",
      "  adding: data/unlabeled images/DFO_3h_DFO-Zeitkinetik_5.tif (deflated 2%)\n",
      "  adding: data/unlabeled images/DFO_3h_DFO-Zeitkinetik_6.tif (deflated 1%)\n",
      "  adding: data/.DS_Store (deflated 95%)\n",
      "  adding: data/labeled images/ (stored 0%)\n",
      "  adding: data/labeled images/Markers_Counter Window - PMA_2h_DFO-Zeitkinetik_4.jpg (deflated 0%)\n",
      "  adding: data/labeled images/Markers_Counter Window - PMA_2h_DFO-Zeitkinetik_5.jpg (deflated 0%)\n",
      "  adding: data/labeled images/Markers_Counter Window - Counter Window - DFO_3h_DFO-Zeitkinetik_6.jpg (deflated 1%)\n",
      "  adding: data/labeled images/Markers_Counter Window - PMA_3h_DFO-Zeitkinetik_5.jpg (deflated 0%)\n",
      "  adding: data/labeled images/Markers_Counter Window - DFO_3h_DFO-Zeitkinetik_5.jpg (deflated 0%)\n",
      "  adding: data/labeled images/Markers_Counter Window - Ctr._2h_DFO-Zeitkinetik_4.jpg (deflated 1%)\n",
      "  adding: data/labeled images/Markers_Counter Window - DFO_2h_DFO-Zeitkinetik_6.jpg (deflated 0%)\n",
      "  adding: data/labeled images/Markers_Counter Window - DFO+PMA_4h_DFO-Zeitkinetik_6.jpg (deflated 0%)\n",
      "  adding: data/labeled images/Markers_Counter Window - Ctr._1h_DFO-Zeitkinetik_2.jpg (deflated 1%)\n",
      "  adding: data/labeled images/Markers_Counter Window - DFO_2h_DFO-Zeitkinetik_2.jpg (deflated 0%)\n",
      "  adding: data/README.md (deflated 16%)\n"
     ]
    }
   ],
   "source": [
    "!zip -r data.zip data"
   ]
  },
  {
   "cell_type": "code",
   "execution_count": null,
   "metadata": {},
   "outputs": [],
   "source": []
  }
 ],
 "metadata": {
  "kernelspec": {
   "display_name": ".venv",
   "language": "python",
   "name": "python3"
  },
  "language_info": {
   "codemirror_mode": {
    "name": "ipython",
    "version": 3
   },
   "file_extension": ".py",
   "mimetype": "text/x-python",
   "name": "python",
   "nbconvert_exporter": "python",
   "pygments_lexer": "ipython3",
   "version": "3.11.3"
  }
 },
 "nbformat": 4,
 "nbformat_minor": 2
}
